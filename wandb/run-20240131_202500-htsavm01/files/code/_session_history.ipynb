{
 "cells": [
  {
   "cell_type": "code",
   "execution_count": 1,
   "id": "d145cced",
   "metadata": {},
   "outputs": [],
   "source": [
    "import wandb\n",
    "import pandas as pd\n",
    "from sklearn.preprocessing import LabelEncoder\n",
    "import os\n",
    "from dotenv import load_dotenv\n",
    "## Preprocessing ------------------------------------------------------------------------#\n",
    "\n",
    "df = pd.read_csv(\"data/training.zip\", low_memory=False)\n",
    "def preprocess(df):\n",
    "    label_encoder = LabelEncoder()\n",
    "    df['Label'] = label_encoder.fit_transform(df['Label'])\n",
    "    parquet_filename = 'data/preprocessed_data.parquet'\n",
    "    df.to_parquet(parquet_filename, engine='fastparquet')\n",
    "    X = df.drop(['Label', 'Weight'], axis=1)\n",
    "    y = df['Label']\n",
    "    return X, y\n",
    "\n",
    "X, y = preprocess(df)\n",
    "## Using wandb to log data --------------------------------------------------------------#\n",
    "## uncomment when running locally. left out to be used by github workflows\n",
    "\n",
    "load_dotenv()\n",
    "WANDB_API_KEY = os.getenv(\"WANDB_API_KEY\")\n",
    "# Logging into wandb\n",
    "\n",
    "wandb.login(key=WANDB_API_KEY)\n",
    "def log_data(data_name, local_data_path):\n",
    "    # 1. Starting a new run\n",
    "    run = wandb.init(project=\"Higgs-Boson\", job_type = 'create_data')\n",
    "    # 2. Creating a data artifact\n",
    "    df = wandb.Artifact(\n",
    "        name='df_preprocessed',\n",
    "        type='dataset'\n",
    "        )\n",
    "    df.add_file(local_path='data/preprocessed_data.parquet')\n",
    "    # run.log_artifact(df)\n",
    "    run.finish()"
   ]
  },
  {
   "cell_type": "code",
   "execution_count": 2,
   "id": "e1dbf7ed",
   "metadata": {},
   "outputs": [
    {
     "data": {
      "text/html": [
       "wandb version 0.16.2 is available!  To upgrade, please run:\n",
       " $ pip install wandb --upgrade"
      ],
      "text/plain": [
       "<IPython.core.display.HTML object>"
      ]
     },
     "metadata": {},
     "output_type": "display_data"
    },
    {
     "data": {
      "text/html": [
       "Tracking run with wandb version 0.15.12"
      ],
      "text/plain": [
       "<IPython.core.display.HTML object>"
      ]
     },
     "metadata": {},
     "output_type": "display_data"
    },
    {
     "data": {
      "text/html": [
       "Run data is saved locally in <code>e:\\vscode\\TMLC\\Higgs_Boson\\wandb\\run-20240131_202500-htsavm01</code>"
      ],
      "text/plain": [
       "<IPython.core.display.HTML object>"
      ]
     },
     "metadata": {},
     "output_type": "display_data"
    },
    {
     "data": {
      "text/html": [
       "Syncing run <strong><a href='https://wandb.ai/harsh-ajay-jadhav/Higgs-Boson/runs/htsavm01' target=\"_blank\">twilight-wind-7</a></strong> to <a href='https://wandb.ai/harsh-ajay-jadhav/Higgs-Boson' target=\"_blank\">Weights & Biases</a> (<a href='https://wandb.me/run' target=\"_blank\">docs</a>)<br/>"
      ],
      "text/plain": [
       "<IPython.core.display.HTML object>"
      ]
     },
     "metadata": {},
     "output_type": "display_data"
    },
    {
     "data": {
      "text/html": [
       " View project at <a href='https://wandb.ai/harsh-ajay-jadhav/Higgs-Boson' target=\"_blank\">https://wandb.ai/harsh-ajay-jadhav/Higgs-Boson</a>"
      ],
      "text/plain": [
       "<IPython.core.display.HTML object>"
      ]
     },
     "metadata": {},
     "output_type": "display_data"
    },
    {
     "data": {
      "text/html": [
       " View run at <a href='https://wandb.ai/harsh-ajay-jadhav/Higgs-Boson/runs/htsavm01' target=\"_blank\">https://wandb.ai/harsh-ajay-jadhav/Higgs-Boson/runs/htsavm01</a>"
      ],
      "text/plain": [
       "<IPython.core.display.HTML object>"
      ]
     },
     "metadata": {},
     "output_type": "display_data"
    }
   ],
   "source": [
    "log_data(data_name='df_preprocessed', local_data_path = 'data/preprocessed_data.parquet')"
   ]
  }
 ],
 "metadata": {
  "kernelspec": {
   "display_name": "Python 3",
   "language": "python",
   "name": "python3"
  },
  "language_info": {
   "codemirror_mode": {
    "name": "ipython",
    "version": 3
   },
   "file_extension": ".py",
   "mimetype": "text/x-python",
   "name": "python",
   "nbconvert_exporter": "python",
   "pygments_lexer": "ipython3",
   "version": "3.10.13"
  }
 },
 "nbformat": 4,
 "nbformat_minor": 5
}
