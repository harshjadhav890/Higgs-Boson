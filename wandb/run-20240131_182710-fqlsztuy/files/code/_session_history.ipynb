{
 "cells": [
  {
   "cell_type": "code",
   "execution_count": 1,
   "id": "c3411a3c",
   "metadata": {},
   "outputs": [],
   "source": [
    "import wandb\n",
    "from wandb.xgboost import WandbCallback\n",
    "from sklearn.model_selection import train_test_split\n",
    "import numpy as np\n",
    "import pandas as pd\n",
    "from xgboost import XGBClassifier\n",
    "from modelling import preprocess, fit_score, save\n",
    "import os\n",
    "from dotenv import load_dotenv\n",
    "## uncomment when running locally. left out to be used by github workflows\n",
    "\n",
    "load_dotenv()\n",
    "WANDB_API_KEY = os.getenv(\"WANDB_API_KEY\")\n",
    "# Logging into wandb\n",
    "\n",
    "wandb.login(key=WANDB_API_KEY)\n",
    "# import fastparquet\n",
    "\n",
    "parquet_file_path = 'data/preprocessed_data.parquet'\n",
    "# Read the Parquet file into a Pandas DataFrame using fastparquet\n",
    "\n",
    "df = pd.read_parquet(parquet_file_path, engine='fastparquet')\n",
    "# setup parameters for xgboost\n",
    "\n",
    "params = {\n",
    "    \"eta\" : 0.1,\n",
    "    \"max_depth\": 6,\n",
    "    \"nthread\" : 4,\n",
    "}\n",
    "# Train and save the model locally\n",
    "\n",
    "local_model_path = 'models/Tuned_model.pkl'\n",
    "X, y = preprocess(df)\n",
    "model, metrics = fit_score(X, y, **params)\n",
    "save(model, local_model_path)"
   ]
  },
  {
   "cell_type": "code",
   "execution_count": 2,
   "id": "2dd9fc00",
   "metadata": {},
   "outputs": [],
   "source": [
    "import wandb\n",
    "from wandb.xgboost import WandbCallback\n",
    "from sklearn.model_selection import train_test_split\n",
    "import numpy as np\n",
    "import pandas as pd\n",
    "from xgboost import XGBClassifier\n",
    "from modelling import preprocess, fit_score, save\n",
    "import os\n",
    "from dotenv import load_dotenv\n",
    "## uncomment when running locally. left out to be used by github workflows\n",
    "\n",
    "load_dotenv()\n",
    "WANDB_API_KEY = os.getenv(\"WANDB_API_KEY\")\n",
    "# Logging into wandb\n",
    "\n",
    "wandb.login(key=WANDB_API_KEY)\n",
    "# import fastparquet\n",
    "\n",
    "parquet_file_path = 'data/preprocessed_data.parquet'\n",
    "# Read the Parquet file into a Pandas DataFrame using fastparquet\n",
    "\n",
    "df = pd.read_parquet(parquet_file_path, engine='fastparquet')\n",
    "# setup parameters for xgboost\n",
    "\n",
    "params = {\n",
    "    \"eta\" : 0.1,\n",
    "    \"max_depth\": 6,\n",
    "    \"nthread\" : 4,\n",
    "}\n",
    "# Train and save the model locally\n",
    "\n",
    "local_model_path = 'models/Tuned_model.pkl'\n",
    "X, y = preprocess(df)\n",
    "model, metrics = fit_score(X, y, **params)"
   ]
  },
  {
   "cell_type": "code",
   "execution_count": 3,
   "id": "b1e0b297",
   "metadata": {},
   "outputs": [],
   "source": [
    "print(metrics)"
   ]
  },
  {
   "cell_type": "code",
   "execution_count": 4,
   "id": "a84aecca",
   "metadata": {},
   "outputs": [
    {
     "data": {
      "application/vnd.jupyter.widget-view+json": {
       "model_id": "0c868406dfcc4e24bd4220ab2681334f",
       "version_major": 2,
       "version_minor": 0
      },
      "text/plain": [
       "VBox(children=(Label(value='Waiting for wandb.init()...\\r'), FloatProgress(value=0.011111111111111112, max=1.0…"
      ]
     },
     "metadata": {},
     "output_type": "display_data"
    },
    {
     "data": {
      "text/html": [
       "wandb version 0.16.2 is available!  To upgrade, please run:\n",
       " $ pip install wandb --upgrade"
      ],
      "text/plain": [
       "<IPython.core.display.HTML object>"
      ]
     },
     "metadata": {},
     "output_type": "display_data"
    },
    {
     "data": {
      "text/html": [
       "Tracking run with wandb version 0.15.12"
      ],
      "text/plain": [
       "<IPython.core.display.HTML object>"
      ]
     },
     "metadata": {},
     "output_type": "display_data"
    },
    {
     "data": {
      "text/html": [
       "Run data is saved locally in <code>e:\\vscode\\TMLC\\Higgs_Boson\\wandb\\run-20240131_182710-fqlsztuy</code>"
      ],
      "text/plain": [
       "<IPython.core.display.HTML object>"
      ]
     },
     "metadata": {},
     "output_type": "display_data"
    },
    {
     "data": {
      "text/html": [
       "Syncing run <strong><a href='https://wandb.ai/harsh-ajay-jadhav/Higgs-Boson/runs/fqlsztuy' target=\"_blank\">lilac-wildflower-6</a></strong> to <a href='https://wandb.ai/harsh-ajay-jadhav/Higgs-Boson' target=\"_blank\">Weights & Biases</a> (<a href='https://wandb.me/run' target=\"_blank\">docs</a>)<br/>"
      ],
      "text/plain": [
       "<IPython.core.display.HTML object>"
      ]
     },
     "metadata": {},
     "output_type": "display_data"
    },
    {
     "data": {
      "text/html": [
       " View project at <a href='https://wandb.ai/harsh-ajay-jadhav/Higgs-Boson' target=\"_blank\">https://wandb.ai/harsh-ajay-jadhav/Higgs-Boson</a>"
      ],
      "text/plain": [
       "<IPython.core.display.HTML object>"
      ]
     },
     "metadata": {},
     "output_type": "display_data"
    },
    {
     "data": {
      "text/html": [
       " View run at <a href='https://wandb.ai/harsh-ajay-jadhav/Higgs-Boson/runs/fqlsztuy' target=\"_blank\">https://wandb.ai/harsh-ajay-jadhav/Higgs-Boson/runs/fqlsztuy</a>"
      ],
      "text/plain": [
       "<IPython.core.display.HTML object>"
      ]
     },
     "metadata": {},
     "output_type": "display_data"
    }
   ],
   "source": [
    "def log_model(model_name, local_model_path, wandb_data_path = 'harsh-ajay-jadhav/Higgs-Boson/df_preprocessed:v0', metrics=None):\n",
    "    run = wandb.init(\n",
    "        project=\"Higgs-Boson\",\n",
    "        config=params,\n",
    "        job_type = 'train_model'\n",
    "    )\n",
    "    run.use_artifact(wandb_data_path, type='dataset')\n",
    "    model_artifact = wandb.Artifact(\n",
    "            name=model_name,\n",
    "            type='model'\n",
    "        )\n",
    "    model_artifact.add_file(local_path=local_model_path)\n",
    "    run.log_artifact(model_artifact)\n",
    "    if metrics is not None:\n",
    "        run.log(metrics)\n",
    "    run.finish()\n",
    "\n",
    "log_model('tuned_model', local_model_path, metrics=metrics)"
   ]
  }
 ],
 "metadata": {
  "kernelspec": {
   "display_name": "Python 3",
   "language": "python",
   "name": "python3"
  },
  "language_info": {
   "codemirror_mode": {
    "name": "ipython",
    "version": 3
   },
   "file_extension": ".py",
   "mimetype": "text/x-python",
   "name": "python",
   "nbconvert_exporter": "python",
   "pygments_lexer": "ipython3",
   "version": "3.10.13"
  }
 },
 "nbformat": 4,
 "nbformat_minor": 5
}
