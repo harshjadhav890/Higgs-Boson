{
 "cells": [
  {
   "cell_type": "code",
   "execution_count": 1,
   "id": "3a6f86fd",
   "metadata": {},
   "outputs": [],
   "source": [
    "import wandb\n",
    "import pandas as pd\n",
    "from sklearn.preprocessing import LabelEncoder\n",
    "import os\n",
    "from dotenv import load_dotenv\n",
    "## Preprocessing ------------------------------------------------------------------------#\n",
    "\n",
    "df = pd.read_csv(\"../data/training.zip\", low_memory=False)"
   ]
  },
  {
   "cell_type": "code",
   "execution_count": 2,
   "id": "8969adc4",
   "metadata": {},
   "outputs": [],
   "source": [
    "df = pd.read_csv(\"../data/training.zip\", low_memory=False)"
   ]
  },
  {
   "cell_type": "code",
   "execution_count": 3,
   "id": "e502c895",
   "metadata": {},
   "outputs": [
    {
     "name": "stdout",
     "output_type": "stream",
     "text": [
      "'e:\\\\vscode\\\\TMLC\\\\Higgs_Boson'"
     ]
    }
   ],
   "source": [
    "os.getcwd()"
   ]
  },
  {
   "cell_type": "code",
   "execution_count": 4,
   "id": "cba36791",
   "metadata": {},
   "outputs": [],
   "source": [
    "df = pd.read_csv(\"data/training.zip\", low_memory=False)"
   ]
  },
  {
   "cell_type": "code",
   "execution_count": 5,
   "id": "3596b851",
   "metadata": {},
   "outputs": [],
   "source": [
    "import wandb\n",
    "import pandas as pd\n",
    "from sklearn.preprocessing import LabelEncoder\n",
    "import os\n",
    "from dotenv import load_dotenv\n",
    "os.getcwd()\n",
    "## Preprocessing ------------------------------------------------------------------------#\n",
    "\n",
    "df = pd.read_csv(\"data/training.zip\", low_memory=False)"
   ]
  },
  {
   "cell_type": "code",
   "execution_count": 6,
   "id": "802061cc",
   "metadata": {},
   "outputs": [],
   "source": [
    "def preprocess(df):\n",
    "    label_encoder = LabelEncoder()\n",
    "    df['Label'] = label_encoder.fit_transform(df['Label'])\n",
    "    parquet_filename = '../data/preprocessed_data.parquet'\n",
    "    df.to_parquet(parquet_filename, engine='fastparquet')\n",
    "    X = df.drop(['Label', 'Weight'], axis=1)\n",
    "    y = df['Label']\n",
    "    return X, y\n",
    "\n",
    "X, y = preprocess(df)"
   ]
  },
  {
   "cell_type": "code",
   "execution_count": 7,
   "id": "65f89102",
   "metadata": {},
   "outputs": [],
   "source": [
    "def preprocess(df):\n",
    "    label_encoder = LabelEncoder()\n",
    "    df['Label'] = label_encoder.fit_transform(df['Label'])\n",
    "    parquet_filename = 'data/preprocessed_data.parquet'\n",
    "    df.to_parquet(parquet_filename, engine='fastparquet')\n",
    "    X = df.drop(['Label', 'Weight'], axis=1)\n",
    "    y = df['Label']\n",
    "    return X, y\n",
    "\n",
    "X, y = preprocess(df)"
   ]
  },
  {
   "cell_type": "code",
   "execution_count": 8,
   "id": "383586fc",
   "metadata": {},
   "outputs": [
    {
     "name": "stdout",
     "output_type": "stream",
     "text": [
      "True"
     ]
    }
   ],
   "source": [
    "load_dotenv()\n",
    "WANDB_API_KEY = os.getenv(\"WANDB_API_KEY\")\n",
    "# Logging into wandb\n",
    "\n",
    "wandb.login(key=WANDB_API_KEY)"
   ]
  },
  {
   "cell_type": "code",
   "execution_count": 9,
   "id": "a3981ad2",
   "metadata": {},
   "outputs": [
    {
     "data": {
      "application/vnd.jupyter.widget-view+json": {
       "model_id": "6161e47372be47f0808c2682e6fc0e2b",
       "version_major": 2,
       "version_minor": 0
      },
      "text/plain": [
       "VBox(children=(Label(value='Waiting for wandb.init()...\\r'), FloatProgress(value=0.011288888888884685, max=1.0…"
      ]
     },
     "metadata": {},
     "output_type": "display_data"
    },
    {
     "data": {
      "text/html": [
       "wandb version 0.16.2 is available!  To upgrade, please run:\n",
       " $ pip install wandb --upgrade"
      ],
      "text/plain": [
       "<IPython.core.display.HTML object>"
      ]
     },
     "metadata": {},
     "output_type": "display_data"
    },
    {
     "data": {
      "text/html": [
       "Tracking run with wandb version 0.15.12"
      ],
      "text/plain": [
       "<IPython.core.display.HTML object>"
      ]
     },
     "metadata": {},
     "output_type": "display_data"
    },
    {
     "data": {
      "text/html": [
       "Run data is saved locally in <code>e:\\vscode\\TMLC\\Higgs_Boson\\wandb\\run-20240131_162710-a3eg3j8u</code>"
      ],
      "text/plain": [
       "<IPython.core.display.HTML object>"
      ]
     },
     "metadata": {},
     "output_type": "display_data"
    },
    {
     "data": {
      "text/html": [
       "Syncing run <strong><a href='https://wandb.ai/harsh-ajay-jadhav/Higgs-Boson/runs/a3eg3j8u' target=\"_blank\">kind-blaze-1</a></strong> to <a href='https://wandb.ai/harsh-ajay-jadhav/Higgs-Boson' target=\"_blank\">Weights & Biases</a> (<a href='https://wandb.me/run' target=\"_blank\">docs</a>)<br/>"
      ],
      "text/plain": [
       "<IPython.core.display.HTML object>"
      ]
     },
     "metadata": {},
     "output_type": "display_data"
    },
    {
     "data": {
      "text/html": [
       " View project at <a href='https://wandb.ai/harsh-ajay-jadhav/Higgs-Boson' target=\"_blank\">https://wandb.ai/harsh-ajay-jadhav/Higgs-Boson</a>"
      ],
      "text/plain": [
       "<IPython.core.display.HTML object>"
      ]
     },
     "metadata": {},
     "output_type": "display_data"
    },
    {
     "data": {
      "text/html": [
       " View run at <a href='https://wandb.ai/harsh-ajay-jadhav/Higgs-Boson/runs/a3eg3j8u' target=\"_blank\">https://wandb.ai/harsh-ajay-jadhav/Higgs-Boson/runs/a3eg3j8u</a>"
      ],
      "text/plain": [
       "<IPython.core.display.HTML object>"
      ]
     },
     "metadata": {},
     "output_type": "display_data"
    }
   ],
   "source": [
    "run = wandb.init(project=\"Higgs-Boson\", job_type = 'create_data')\n",
    "# 2. Creating a data artifact\n",
    "\n",
    "df_large = wandb.Artifact(\n",
    "    name='df_preprocessed',\n",
    "    type='dataset'\n",
    "    )\n",
    "\n",
    "df_large.add_file(local_path='../data/preprocessed_data.parquet')\n",
    "# 3. logging the artifact and finishing the run\n",
    "# run.log_artifact(df_large)\n",
    "\n",
    "run.finish()"
   ]
  },
  {
   "cell_type": "code",
   "execution_count": 10,
   "id": "0d4b1295",
   "metadata": {},
   "outputs": [
    {
     "name": "stdout",
     "output_type": "stream",
     "text": [
      "ArtifactManifestEntry(path='preprocessed_data.parquet', digest='5rI7SkerMvkDD39pyPhU2w==', size=30878811, local_path='C:\\\\Users\\\\harsh_nrbg8yv\\\\AppData\\\\Local\\\\wandb\\\\wandb\\\\artifacts\\\\staging\\\\tmp6owhwpxx')"
     ]
    }
   ],
   "source": [
    "df = wandb.Artifact(\n",
    "    name='df_preprocessed',\n",
    "    type='dataset'\n",
    "    )\n",
    "\n",
    "df.add_file(local_path='data/preprocessed_data.parquet')"
   ]
  },
  {
   "cell_type": "code",
   "execution_count": 11,
   "id": "10fca6c5",
   "metadata": {},
   "outputs": [],
   "source": [
    "run.finish()"
   ]
  }
 ],
 "metadata": {
  "kernelspec": {
   "display_name": "Python 3",
   "language": "python",
   "name": "python3"
  },
  "language_info": {
   "codemirror_mode": {
    "name": "ipython",
    "version": 3
   },
   "file_extension": ".py",
   "mimetype": "text/x-python",
   "name": "python",
   "nbconvert_exporter": "python",
   "pygments_lexer": "ipython3",
   "version": "3.10.13"
  }
 },
 "nbformat": 4,
 "nbformat_minor": 5
}
