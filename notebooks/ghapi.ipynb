{
 "cells": [
  {
   "cell_type": "code",
   "execution_count": null,
   "metadata": {},
   "outputs": [],
   "source": [
    "# Print Full GitHub API reference\n",
    "\n",
    "# from IPython.display import Markdown\n",
    "# Markdown(GhApi().full_docs())"
   ]
  },
  {
   "cell_type": "code",
   "execution_count": 1,
   "metadata": {},
   "outputs": [],
   "source": [
    "import os\n",
    "from ghapi.core import GhApi"
   ]
  },
  {
   "cell_type": "code",
   "execution_count": 2,
   "metadata": {},
   "outputs": [
    {
     "data": {
      "text/markdown": [
       "- [actions](https://docs.github.com/rest/reference/actions)\n",
       "- [activity](https://docs.github.com/rest/reference/activity)\n",
       "- [apps](https://docs.github.com/rest/reference/apps)\n",
       "- [billing](https://docs.github.com/rest/reference/billing)\n",
       "- [checks](https://docs.github.com/rest/reference/checks)\n",
       "- [code_scanning](https://docs.github.com/rest/reference/code-scanning)\n",
       "- [codes_of_conduct](https://docs.github.com/rest/reference/codes-of-conduct)\n",
       "- [codespaces](https://docs.github.com/rest/reference/codespaces)\n",
       "- [dependabot](https://docs.github.com/rest/reference/dependabot)\n",
       "- [dependency_graph](https://docs.github.com/rest/reference/dependency-graph)\n",
       "- [emojis](https://docs.github.com/rest/reference/emojis)\n",
       "- [gists](https://docs.github.com/rest/reference/gists)\n",
       "- [git](https://docs.github.com/rest/reference/git)\n",
       "- [gitignore](https://docs.github.com/rest/reference/gitignore)\n",
       "- [interactions](https://docs.github.com/rest/reference/interactions)\n",
       "- [issues](https://docs.github.com/rest/reference/issues)\n",
       "- [licenses](https://docs.github.com/rest/reference/licenses)\n",
       "- [markdown](https://docs.github.com/rest/reference/markdown)\n",
       "- [meta](https://docs.github.com/rest/reference/meta)\n",
       "- [migrations](https://docs.github.com/rest/reference/migrations)\n",
       "- [oidc](https://docs.github.com/rest/reference/oidc)\n",
       "- [orgs](https://docs.github.com/rest/reference/orgs)\n",
       "- [packages](https://docs.github.com/rest/reference/packages)\n",
       "- [projects](https://docs.github.com/rest/reference/projects)\n",
       "- [pulls](https://docs.github.com/rest/reference/pulls)\n",
       "- [rate_limit](https://docs.github.com/rest/reference/rate-limit)\n",
       "- [reactions](https://docs.github.com/rest/reference/reactions)\n",
       "- [repos](https://docs.github.com/rest/reference/repos)\n",
       "- [search](https://docs.github.com/rest/reference/search)\n",
       "- [secret_scanning](https://docs.github.com/rest/reference/secret-scanning)\n",
       "- [security_advisories](https://docs.github.com/rest/reference/security-advisories)\n",
       "- [teams](https://docs.github.com/rest/reference/teams)\n",
       "- [users](https://docs.github.com/rest/reference/users)"
      ],
      "text/plain": [
       "<ghapi.core.GhApi at 0x23861311bd0>"
      ]
     },
     "execution_count": 2,
     "metadata": {},
     "output_type": "execute_result"
    }
   ],
   "source": [
    "# Setup the GITHUB_TOKEN as an environment variable before you run this\n",
    "# You will find instructions on making your own GITHUB_TOKEN here: https://docs.github.com/en/authentication/keeping-your-account-and-data-secure/managing-your-personal-access-tokens\n",
    "api = GhApi(owner='harshjadhav890', repo='Higgs-Boson')\n",
    "\n",
    "api # Ignore the path parameters when you access this. You already input them above"
   ]
  },
  {
   "cell_type": "code",
   "execution_count": 43,
   "metadata": {},
   "outputs": [
    {
     "name": "stdout",
     "output_type": "stream",
     "text": [
      "Update train.yaml 3 https://github.com/harshjadhav890/Higgs-Boson/pull/3\n"
     ]
    }
   ],
   "source": [
    "for pr in api.pulls.list():\n",
    "    print(pr.title, pr.number, pr.html_url)"
   ]
  },
  {
   "cell_type": "code",
   "execution_count": 44,
   "metadata": {},
   "outputs": [
    {
     "data": {
      "text/plain": [
       "'Update train.py'"
      ]
     },
     "execution_count": 44,
     "metadata": {},
     "output_type": "execute_result"
    }
   ],
   "source": [
    "api.pulls.list_commits(1)[0][\"commit\"][\"message\"]"
   ]
  },
  {
   "cell_type": "code",
   "execution_count": 45,
   "metadata": {},
   "outputs": [
    {
     "data": {
      "text/markdown": [
       "```json\n",
       "{ 'author_association': 'OWNER',\n",
       "  'body': 'This comment was made using ghapi',\n",
       "  'created_at': '2024-02-02T09:14:02Z',\n",
       "  'html_url': 'https://github.com/harshjadhav890/Higgs-Boson/pull/3#issuecomment-1923384561',\n",
       "  'id': 1923384561,\n",
       "  'issue_url': 'https://api.github.com/repos/harshjadhav890/Higgs-Boson/issues/3',\n",
       "  'node_id': 'IC_kwDOLJpvqc5ypITx',\n",
       "  'performed_via_github_app': None,\n",
       "  'reactions': { '+1': 0,\n",
       "                 '-1': 0,\n",
       "                 'confused': 0,\n",
       "                 'eyes': 0,\n",
       "                 'heart': 0,\n",
       "                 'hooray': 0,\n",
       "                 'laugh': 0,\n",
       "                 'rocket': 0,\n",
       "                 'total_count': 0,\n",
       "                 'url': 'https://api.github.com/repos/harshjadhav890/Higgs-Boson/issues/comments/1923384561/reactions'},\n",
       "  'updated_at': '2024-02-02T09:14:02Z',\n",
       "  'url': 'https://api.github.com/repos/harshjadhav890/Higgs-Boson/issues/comments/1923384561',\n",
       "  'user': { 'avatar_url': 'https://avatars.githubusercontent.com/u/81370729?u=bf278c9e8d7cf7189941a83ca2cf27fdb8de9370&v=4',\n",
       "            'events_url': 'https://api.github.com/users/harshjadhav890/events{/privacy}',\n",
       "            'followers_url': 'https://api.github.com/users/harshjadhav890/followers',\n",
       "            'following_url': 'https://api.github.com/users/harshjadhav890/following{/other_user}',\n",
       "            'gists_url': 'https://api.github.com/users/harshjadhav890/gists{/gist_id}',\n",
       "            'gravatar_id': '',\n",
       "            'html_url': 'https://github.com/harshjadhav890',\n",
       "            'id': 81370729,\n",
       "            'login': 'harshjadhav890',\n",
       "            'node_id': 'MDQ6VXNlcjgxMzcwNzI5',\n",
       "            'organizations_url': 'https://api.github.com/users/harshjadhav890/orgs',\n",
       "            'received_events_url': 'https://api.github.com/users/harshjadhav890/received_events',\n",
       "            'repos_url': 'https://api.github.com/users/harshjadhav890/repos',\n",
       "            'site_admin': False,\n",
       "            'starred_url': 'https://api.github.com/users/harshjadhav890/starred{/owner}{/repo}',\n",
       "            'subscriptions_url': 'https://api.github.com/users/harshjadhav890/subscriptions',\n",
       "            'type': 'User',\n",
       "            'url': 'https://api.github.com/users/harshjadhav890'}}\n",
       "```"
      ],
      "text/plain": [
       "{'url': 'https://api.github.com/repos/harshjadhav890/Higgs-Boson/issues/comments/1923384561',\n",
       " 'html_url': 'https://github.com/harshjadhav890/Higgs-Boson/pull/3#issuecomment-1923384561',\n",
       " 'issue_url': 'https://api.github.com/repos/harshjadhav890/Higgs-Boson/issues/3',\n",
       " 'id': 1923384561,\n",
       " 'node_id': 'IC_kwDOLJpvqc5ypITx',\n",
       " 'user': {'login': 'harshjadhav890',\n",
       "  'id': 81370729,\n",
       "  'node_id': 'MDQ6VXNlcjgxMzcwNzI5',\n",
       "  'avatar_url': 'https://avatars.githubusercontent.com/u/81370729?u=bf278c9e8d7cf7189941a83ca2cf27fdb8de9370&v=4',\n",
       "  'gravatar_id': '',\n",
       "  'url': 'https://api.github.com/users/harshjadhav890',\n",
       "  'html_url': 'https://github.com/harshjadhav890',\n",
       "  'followers_url': 'https://api.github.com/users/harshjadhav890/followers',\n",
       "  'following_url': 'https://api.github.com/users/harshjadhav890/following{/other_user}',\n",
       "  'gists_url': 'https://api.github.com/users/harshjadhav890/gists{/gist_id}',\n",
       "  'starred_url': 'https://api.github.com/users/harshjadhav890/starred{/owner}{/repo}',\n",
       "  'subscriptions_url': 'https://api.github.com/users/harshjadhav890/subscriptions',\n",
       "  'organizations_url': 'https://api.github.com/users/harshjadhav890/orgs',\n",
       "  'repos_url': 'https://api.github.com/users/harshjadhav890/repos',\n",
       "  'events_url': 'https://api.github.com/users/harshjadhav890/events{/privacy}',\n",
       "  'received_events_url': 'https://api.github.com/users/harshjadhav890/received_events',\n",
       "  'type': 'User',\n",
       "  'site_admin': False},\n",
       " 'created_at': '2024-02-02T09:14:02Z',\n",
       " 'updated_at': '2024-02-02T09:14:02Z',\n",
       " 'author_association': 'OWNER',\n",
       " 'body': 'This comment was made using ghapi',\n",
       " 'reactions': {'url': 'https://api.github.com/repos/harshjadhav890/Higgs-Boson/issues/comments/1923384561/reactions',\n",
       "  'total_count': 0,\n",
       "  '+1': 0,\n",
       "  '-1': 0,\n",
       "  'laugh': 0,\n",
       "  'hooray': 0,\n",
       "  'confused': 0,\n",
       "  'heart': 0,\n",
       "  'rocket': 0,\n",
       "  'eyes': 0},\n",
       " 'performed_via_github_app': None}"
      ]
     },
     "execution_count": 45,
     "metadata": {},
     "output_type": "execute_result"
    }
   ],
   "source": [
    "api.issues.create_comment(3, \"This comment was made using ghapi\")"
   ]
  },
  {
   "cell_type": "code",
   "execution_count": 47,
   "metadata": {},
   "outputs": [
    {
     "data": {
      "text/plain": [
       "(#1) [{'id': 6507659940, 'node_id': 'LA_kwDOLJpvqc8AAAABg-MCpA', 'url': 'https://api.github.com/repos/harshjadhav890/Higgs-Boson/labels/test-label', 'name': 'test-label', 'color': 'ededed', 'default': False, 'description': None}]"
      ]
     },
     "execution_count": 47,
     "metadata": {},
     "output_type": "execute_result"
    }
   ],
   "source": [
    "api.issues.add_labels(3, ['test-label'])"
   ]
  },
  {
   "cell_type": "code",
   "execution_count": 7,
   "metadata": {},
   "outputs": [
    {
     "data": {
      "text/markdown": [
       "- [issues.list](https://docs.github.com/rest/reference/issues#list-issues-assigned-to-the-authenticated-user)(filter, state, labels, sort, direction, since, collab, orgs, owned, pulls, per_page, page): *List issues assigned to the authenticated user*\n",
       "- [issues.list_for_org](https://docs.github.com/rest/reference/issues#list-organization-issues-assigned-to-the-authenticated-user)(org, filter, state, labels, sort, direction, since, per_page, page): *List organization issues assigned to the authenticated user*\n",
       "- [issues.list_assignees](https://docs.github.com/rest/reference/issues#list-assignees)(per_page, page): *List assignees*\n",
       "- [issues.check_user_can_be_assigned](https://docs.github.com/rest/reference/issues#check-if-a-user-can-be-assigned)(assignee): *Check if a user can be assigned*\n",
       "- [issues.list_for_repo](https://docs.github.com/rest/reference/issues#list-repository-issues)(milestone, state, assignee, creator, mentioned, labels, sort, direction, since, per_page, page): *List repository issues*\n",
       "- [issues.create](https://docs.github.com/rest/reference/issues#create-an-issue)(title, body, assignee, milestone, labels, assignees): *Create an issue*\n",
       "- [issues.list_comments_for_repo](https://docs.github.com/rest/reference/issues#list-issue-comments-for-a-repository)(sort, direction, since, per_page, page): *List issue comments for a repository*\n",
       "- [issues.get_comment](https://docs.github.com/rest/reference/issues#get-an-issue-comment)(comment_id): *Get an issue comment*\n",
       "- [issues.update_comment](https://docs.github.com/rest/reference/issues#update-an-issue-comment)(comment_id, body): *Update an issue comment*\n",
       "- [issues.delete_comment](https://docs.github.com/rest/reference/issues#delete-an-issue-comment)(comment_id): *Delete an issue comment*\n",
       "- [issues.list_events_for_repo](https://docs.github.com/rest/reference/issues#list-issue-events-for-a-repository)(per_page, page): *List issue events for a repository*\n",
       "- [issues.get_event](https://docs.github.com/rest/reference/issues#get-an-issue-event)(event_id): *Get an issue event*\n",
       "- [issues.get](https://docs.github.com/rest/reference/issues#get-an-issue)(issue_number): *Get an issue*\n",
       "- [issues.update](https://docs.github.com/rest/reference/issues#update-an-issue)(issue_number, title, body, assignee, state, state_reason, milestone, labels, assignees): *Update an issue*\n",
       "- [issues.add_assignees](https://docs.github.com/rest/reference/issues#add-assignees-to-an-issue)(issue_number, assignees): *Add assignees to an issue*\n",
       "- [issues.remove_assignees](https://docs.github.com/rest/reference/issues#remove-assignees-from-an-issue)(issue_number, assignees): *Remove assignees from an issue*\n",
       "- [issues.check_user_can_be_assigned_to_issue](https://docs.github.com/rest/reference/issues#check-if-a-user-can-be-assigned-to-a-issue)(issue_number, assignee): *Check if a user can be assigned to a issue*\n",
       "- [issues.list_comments](https://docs.github.com/rest/reference/issues#list-issue-comments)(issue_number, since, per_page, page): *List issue comments*\n",
       "- [issues.create_comment](https://docs.github.com/rest/reference/issues#create-an-issue-comment)(issue_number, body): *Create an issue comment*\n",
       "- [issues.list_events](https://docs.github.com/rest/reference/issues#list-issue-events)(issue_number, per_page, page): *List issue events*\n",
       "- [issues.list_labels_on_issue](https://docs.github.com/rest/reference/issues#list-labels-for-an-issue)(issue_number, per_page, page): *List labels for an issue*\n",
       "- [issues.add_labels](https://docs.github.com/rest/reference/issues#add-labels-to-an-issue)(issue_number, labels): *Add labels to an issue*\n",
       "- [issues.set_labels](https://docs.github.com/rest/reference/issues#set-labels-for-an-issue)(issue_number, labels): *Set labels for an issue*\n",
       "- [issues.remove_all_labels](https://docs.github.com/rest/reference/issues#remove-all-labels-from-an-issue)(issue_number): *Remove all labels from an issue*\n",
       "- [issues.remove_label](https://docs.github.com/rest/reference/issues#remove-a-label-from-an-issue)(issue_number, name): *Remove a label from an issue*\n",
       "- [issues.lock](https://docs.github.com/rest/reference/issues#lock-an-issue)(issue_number, lock_reason): *Lock an issue*\n",
       "- [issues.unlock](https://docs.github.com/rest/reference/issues#unlock-an-issue)(issue_number): *Unlock an issue*\n",
       "- [issues.list_events_for_timeline](https://docs.github.com/rest/reference/issues#list-timeline-events-for-an-issue)(issue_number, per_page, page): *List timeline events for an issue*\n",
       "- [issues.list_labels_for_repo](https://docs.github.com/rest/reference/issues#list-labels-for-a-repository)(per_page, page): *List labels for a repository*\n",
       "- [issues.create_label](https://docs.github.com/rest/reference/issues#create-a-label)(name, color, description): *Create a label*\n",
       "- [issues.get_label](https://docs.github.com/rest/reference/issues#get-a-label)(name): *Get a label*\n",
       "- [issues.update_label](https://docs.github.com/rest/reference/issues#update-a-label)(name, new_name, color, description): *Update a label*\n",
       "- [issues.delete_label](https://docs.github.com/rest/reference/issues#delete-a-label)(name): *Delete a label*\n",
       "- [issues.list_milestones](https://docs.github.com/rest/reference/issues#list-milestones)(state, sort, direction, per_page, page): *List milestones*\n",
       "- [issues.create_milestone](https://docs.github.com/rest/reference/issues#create-a-milestone)(title, state, description, due_on): *Create a milestone*\n",
       "- [issues.get_milestone](https://docs.github.com/rest/reference/issues#get-a-milestone)(milestone_number): *Get a milestone*\n",
       "- [issues.update_milestone](https://docs.github.com/rest/reference/issues#update-a-milestone)(milestone_number, title, state, description, due_on): *Update a milestone*\n",
       "- [issues.delete_milestone](https://docs.github.com/rest/reference/issues#delete-a-milestone)(milestone_number): *Delete a milestone*\n",
       "- [issues.list_labels_for_milestone](https://docs.github.com/rest/reference/issues#list-labels-for-issues-in-a-milestone)(milestone_number, per_page, page): *List labels for issues in a milestone*\n",
       "- [issues.list_for_authenticated_user](https://docs.github.com/rest/reference/issues#list-user-account-issues-assigned-to-the-authenticated-user)(filter, state, labels, sort, direction, since, per_page, page): *List user account issues assigned to the authenticated user*"
      ],
      "text/plain": [
       "<ghapi.core._GhVerbGroup at 0x23861311e10>"
      ]
     },
     "execution_count": 7,
     "metadata": {},
     "output_type": "execute_result"
    }
   ],
   "source": [
    "# You can also type the name of a group, to show all operations in that group, along with parameter details and a link to the documentation\n",
    "api.issues"
   ]
  }
 ],
 "metadata": {
  "kernelspec": {
   "display_name": "Python 3",
   "language": "python",
   "name": "python3"
  },
  "language_info": {
   "codemirror_mode": {
    "name": "ipython",
    "version": 3
   },
   "file_extension": ".py",
   "mimetype": "text/x-python",
   "name": "python",
   "nbconvert_exporter": "python",
   "pygments_lexer": "ipython3",
   "version": "3.10.13"
  }
 },
 "nbformat": 4,
 "nbformat_minor": 2
}
